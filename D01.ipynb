{
 "cells": [
  {
   "cell_type": "code",
   "execution_count": 2,
   "metadata": {},
   "outputs": [
    {
     "data": {
      "text/plain": [
       "'1.19.2'"
      ]
     },
     "execution_count": 2,
     "metadata": {},
     "output_type": "execute_result"
    }
   ],
   "source": [
    "import numpy as np\n",
    "np.__version__"
   ]
  },
  {
   "cell_type": "code",
   "execution_count": 3,
   "metadata": {},
   "outputs": [],
   "source": [
    "#1.生成一個等差數列，首數為0，尾數為20，公差為1的數列。\n",
    "x1 = np.arange(0,20,1)"
   ]
  },
  {
   "cell_type": "code",
   "execution_count": 4,
   "metadata": {
    "scrolled": true
   },
   "outputs": [
    {
     "name": "stdout",
     "output_type": "stream",
     "text": [
      "0,\n",
      "2,\n",
      "4,\n",
      "6,\n",
      "8,\n",
      "10,\n",
      "12,\n",
      "14,\n",
      "16,\n",
      "18,\n"
     ]
    }
   ],
   "source": [
    "#2.呈上題，將以上數列取出偶數。\n",
    "for i in range(len(x1)):\n",
    "    if(i%2==0):\n",
    "        print (\"%d,\"%(x1[i]))"
   ]
  },
  {
   "cell_type": "code",
   "execution_count": 5,
   "metadata": {},
   "outputs": [
    {
     "name": "stdout",
     "output_type": "stream",
     "text": [
      "0,\n",
      "3,\n",
      "6,\n",
      "9,\n",
      "12,\n",
      "15,\n",
      "18,\n"
     ]
    }
   ],
   "source": [
    "#3.呈1題，將數列取出3的倍數。\n",
    "for i in range(len(x1)):\n",
    "    if(i%3==0):\n",
    "        print (\"%d,\"%(x1[i]))"
   ]
  },
  {
   "cell_type": "code",
   "execution_count": null,
   "metadata": {},
   "outputs": [],
   "source": []
  }
 ],
 "metadata": {
  "kernelspec": {
   "display_name": "Python 3",
   "language": "python",
   "name": "python3"
  },
  "language_info": {
   "codemirror_mode": {
    "name": "ipython",
    "version": 3
   },
   "file_extension": ".py",
   "mimetype": "text/x-python",
   "name": "python",
   "nbconvert_exporter": "python",
   "pygments_lexer": "ipython3",
   "version": "3.8.5"
  }
 },
 "nbformat": 4,
 "nbformat_minor": 4
}
