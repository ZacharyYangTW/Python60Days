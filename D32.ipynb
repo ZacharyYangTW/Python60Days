{
 "cells": [
  {
   "cell_type": "markdown",
   "metadata": {},
   "source": [
    "在課堂中，檢定 𝐻_0:𝜇≤0， 𝐻_1:𝜇>0 ，假設在 𝐻_0 為真下，分配為 N(0,1)， 𝐻_1 為真下，分配為 N(2,1)。\n",
    "假設 𝑋 ̅>1，拒絕 𝐻_0。\n",
    "如果拒絕域改變時，𝛼 和 𝛽 會怎樣變化，"
   ]
  },
  {
   "cell_type": "code",
   "execution_count": null,
   "metadata": {},
   "outputs": [],
   "source": [
    "#Q1: 假設 𝑋 ̅>2，拒絕 𝐻_0，𝛼 會變大/變小? 𝛽 會變大/變小?\n",
    "#𝛼 = p(拒絕H0|H0為真)=p(X_bar>2|H0為真) 紫色變小\n",
    "#𝛽 = p(接受H0|H1為真)=p(X_bar<2|H1為真) 粉色變大"
   ]
  },
  {
   "cell_type": "code",
   "execution_count": null,
   "metadata": {},
   "outputs": [],
   "source": [
    "#Q2: 假設 𝑋 ̅>0.2，拒絕 𝐻_0，𝛼 會變大/變小? 𝛽 會變大/變小?\n",
    "#𝛼 = p(拒絕H0|H0為真)=p(X_bar>0.2|H0為真) 紫色變大\n",
    "#𝛽 = p(接受H0|H1為真)=p(X_bar<0.2|H1為真) 粉色變小"
   ]
  },
  {
   "cell_type": "code",
   "execution_count": null,
   "metadata": {},
   "outputs": [],
   "source": [
    "#Q3: 𝛼 和 𝛽 有關聯性?\n",
    "#有"
   ]
  }
 ],
 "metadata": {
  "kernelspec": {
   "display_name": "Python 3",
   "language": "python",
   "name": "python3"
  },
  "language_info": {
   "codemirror_mode": {
    "name": "ipython",
    "version": 3
   },
   "file_extension": ".py",
   "mimetype": "text/x-python",
   "name": "python",
   "nbconvert_exporter": "python",
   "pygments_lexer": "ipython3",
   "version": "3.8.5"
  }
 },
 "nbformat": 4,
 "nbformat_minor": 4
}
