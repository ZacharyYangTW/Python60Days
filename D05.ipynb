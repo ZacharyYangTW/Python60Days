{
 "cells": [
  {
   "cell_type": "code",
   "execution_count": 9,
   "metadata": {},
   "outputs": [],
   "source": [
    "import numpy as np"
   ]
  },
  {
   "cell_type": "code",
   "execution_count": 10,
   "metadata": {},
   "outputs": [],
   "source": [
    "english_score = np.array([55,89,76,65,48,70])\n",
    "math_score = np.array([60,85,60,68,np.nan,60])\n",
    "chinese_score = np.array([65,90,82,72,66,77])"
   ]
  },
  {
   "cell_type": "code",
   "execution_count": 11,
   "metadata": {
    "scrolled": true
   },
   "outputs": [
    {
     "name": "stdout",
     "output_type": "stream",
     "text": [
      "english_score陣列中無 nan，忽略 nan 後的平均值為： 67.16666666666667\n",
      "english_score陣列中有 max 為： 89\n",
      "english_score陣列中有 min 為： 48\n",
      "english_score陣列中有 標準差 為： 13.433995020924426\n",
      "math_score陣列中有 nan，忽略 nan 後的平均值為： 66.6\n",
      "math_score陣列中有 max 為： 85.0\n",
      "math_score陣列中有 min 為： 60.0\n",
      "math_score陣列中有 標準差 為： 9.707728879609279\n",
      "chinese_score陣列中無 nan，忽略 nan 後的平均值為： 75.33333333333333\n",
      "chinese_score陣列中有 max 為： 90\n",
      "chinese_score陣列中有 min 為： 65\n",
      "chinese_score陣列中有 標準差 為： 8.825468196582484\n"
     ]
    }
   ],
   "source": [
    "#1. 請計算各科成績平均、最大值、最小值、標準差，其中數學缺一筆資料可忽略?\n",
    "if not np.isnan(np.sum(english_score)):\n",
    "    print(\"english_score陣列中無 nan，忽略 nan 後的平均值為：\", np.mean(english_score))\n",
    "else:\n",
    "    print(\"english_score陣列中有 nan，忽略 nan 後的平均值為：\", np.nanmean(english_score))\n",
    "print(\"english_score陣列中有 max 為：\", np.nanmax(english_score))\n",
    "print(\"english_score陣列中有 min 為：\", np.nanmin(english_score))\n",
    "print(\"english_score陣列中有 標準差 為：\", np.nanstd(english_score))\n",
    "    \n",
    "if not np.isnan(np.sum(math_score)):\n",
    "    print(\"math_score陣列中無 nan，忽略 nan 後的平均值為：\", np.mean(math_score))\n",
    "else:\n",
    "    print(\"math_score陣列中有 nan，忽略 nan 後的平均值為：\", np.nanmean(math_score))\n",
    "print(\"math_score陣列中有 max 為：\", np.nanmax(math_score))\n",
    "print(\"math_score陣列中有 min 為：\", np.nanmin(math_score))\n",
    "print(\"math_score陣列中有 標準差 為：\", np.nanstd(math_score))\n",
    "    \n",
    "if not np.isnan(np.sum(chinese_score)):\n",
    "    print(\"chinese_score陣列中無 nan，忽略 nan 後的平均值為：\", np.mean(chinese_score))\n",
    "else:\n",
    "    print(\"chinese_score陣列中有 nan，忽略 nan 後的平均值為：\", np.nanmean(chinese_score))\n",
    "print(\"chinese_score陣列中有 max 為：\", np.nanmax(chinese_score))\n",
    "print(\"chinese_score陣列中有 min 為：\", np.nanmin(chinese_score))\n",
    "print(\"chinese_score陣列中有 標準差 為：\", np.nanstd(chinese_score))"
   ]
  },
  {
   "cell_type": "code",
   "execution_count": 13,
   "metadata": {},
   "outputs": [
    {
     "name": "stdout",
     "output_type": "stream",
     "text": [
      "math_score陣列中無 nan，忽略 nan 後的平均值為： 64.66666666666667\n",
      "math_score陣列中有 max 為： 85.0\n",
      "math_score陣列中有 min 為： 55.0\n",
      "math_score陣列中有 標準差 為： 9.860132971832694\n"
     ]
    }
   ],
   "source": [
    "#2. 第五位同學補考數學後成績為55，請計算補考後數學成績平均、最大值、最小值、標準差?\n",
    "math_score[4]=55\n",
    "math_score\n",
    "\n",
    "if not np.isnan(np.sum(math_score)):\n",
    "    print(\"math_score陣列中無 nan，忽略 nan 後的平均值為：\", np.mean(math_score))\n",
    "else:\n",
    "    print(\"math_score陣列中有 nan，忽略 nan 後的平均值為：\", np.nanmean(math_score))\n",
    "print(\"math_score陣列中有 max 為：\", np.nanmax(math_score))\n",
    "print(\"math_score陣列中有 min 為：\", np.nanmin(math_score))\n",
    "print(\"math_score陣列中有 標準差 為：\", np.nanstd(math_score))"
   ]
  },
  {
   "cell_type": "code",
   "execution_count": 14,
   "metadata": {
    "scrolled": true
   },
   "outputs": [
    {
     "data": {
      "text/plain": [
       "array([[1.        , 0.74056803],\n",
       "       [0.74056803, 1.        ]])"
      ]
     },
     "execution_count": 14,
     "metadata": {},
     "output_type": "execute_result"
    }
   ],
   "source": [
    "#3. 用補考後資料找出與國文成績相關係數最高的學科?\n",
    "np.corrcoef(math_score, chinese_score)\n"
   ]
  },
  {
   "cell_type": "code",
   "execution_count": 15,
   "metadata": {},
   "outputs": [
    {
     "data": {
      "text/plain": [
       "array([[1.        , 0.97792828],\n",
       "       [0.97792828, 1.        ]])"
      ]
     },
     "execution_count": 15,
     "metadata": {},
     "output_type": "execute_result"
    }
   ],
   "source": [
    "np.corrcoef(english_score, chinese_score)\n"
   ]
  },
  {
   "cell_type": "code",
   "execution_count": null,
   "metadata": {},
   "outputs": [],
   "source": [
    "#ans: 英文科相關係數最高"
   ]
  }
 ],
 "metadata": {
  "kernelspec": {
   "display_name": "Python 3",
   "language": "python",
   "name": "python3"
  },
  "language_info": {
   "codemirror_mode": {
    "name": "ipython",
    "version": 3
   },
   "file_extension": ".py",
   "mimetype": "text/x-python",
   "name": "python",
   "nbconvert_exporter": "python",
   "pygments_lexer": "ipython3",
   "version": "3.8.5"
  }
 },
 "nbformat": 4,
 "nbformat_minor": 4
}
