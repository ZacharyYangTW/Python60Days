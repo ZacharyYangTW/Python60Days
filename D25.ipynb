{
 "cells": [
  {
   "cell_type": "code",
   "execution_count": 1,
   "metadata": {},
   "outputs": [
    {
     "name": "stdout",
     "output_type": "stream",
     "text": [
      "Collecting netCDF4\n",
      "  Downloading netCDF4-1.5.5.1-cp38-cp38-win_amd64.whl (3.1 MB)\n",
      "Collecting cftime\n",
      "  Downloading cftime-1.4.1-cp38-cp38-win_amd64.whl (215 kB)\n",
      "Requirement already satisfied: numpy>=1.9 in c:\\programdata\\anaconda3\\lib\\site-packages (from netCDF4) (1.19.2)\n",
      "Installing collected packages: cftime, netCDF4\n",
      "Successfully installed cftime-1.4.1 netCDF4-1.5.5.1\n"
     ]
    }
   ],
   "source": [
    "#載入氣象資訊檔, 提供解讀檔案資訊\n",
    "!pip install netCDF4"
   ]
  },
  {
   "cell_type": "code",
   "execution_count": null,
   "metadata": {},
   "outputs": [],
   "source": [
    "from mpl_toolkits.basemap import Basemap, shiftgrid, cm\n",
    "import numpy as np\n",
    "import matplotlib.pyplot as plt\n",
    "from netCDF4 import Dataset\n",
    "\n",
    "# 讀入 etopo5 地形/降水量。.\n",
    "#url = 'https://github.com/NOAA-PMEL/FerretDatasets/blob/master/data/etopo5.cdf'\n",
    "# 要確認資料集所在路徑\n",
    "etopodata = Dataset('etopo5.cdf')\n",
    "\n",
    "'''\n",
    "從這裡開始寫code\n",
    "# 取得資料集裡的資料定義, 使用variables.keys()\n",
    "\n",
    "# 匯入資料 使用variables['keys'][:]\n",
    "\n",
    "# 移位資料, 使 lon 從 - 180 到 180, 而不是 20 到 380 \n",
    "topoin,lons = shiftgrid(180.,topoin,lons,start=False)\n",
    "\n",
    "# 繪製地形/降水量\n",
    "# 創建圖形和軸實例\n",
    "fig = plt.figure()\n",
    "ax = fig.add_axes([0.1,0.1,0.8,0.8])\n",
    "\n",
    "#設定地理資訊圖('lcc' = lambert conformal conic).\n",
    "# 使用 Wgs84 橢圓體的主要和次要球體半徑, 做基礎的底圖\n",
    "# 請填入 resolution='??',area_thresh=???.,projection='??'\n",
    "# area_thresh 為一數字, 低於這個數字不呈現\n",
    "\n",
    "m = Basemap(llcrnrlon=-145.5,llcrnrlat=1.,urcrnrlon=-2.566,urcrnrlat=46.352,\\\n",
    "            rsphere=(6378137.00,6356752.3142),\\\n",
    "            resolution='??',area_thresh=???.,projection='??',\\\n",
    "            lat_1=50.,lon_0=-107.,ax=ax)\n",
    "\n",
    "# 轉換為 nx x ny 定期分空 5km 本機投影網格\n",
    "nx = int((m.xmax-m.xmin)/5000.)+1; ny = int((m.ymax-m.ymin)/5000.)+1\n",
    "topodat = m.transform_scalar(topoin,lons,lats,nx,ny)\n",
    "# plot image over map with imshow.\n",
    "im = m.imshow(topodat,cm.GMT_haxby)\n",
    "#劃定海岸線和邊境界限, 總共需要3個參數\n",
    "\n",
    "1.\n",
    "2.\n",
    "3.\n",
    "\n",
    "# 繪製經緯線\n",
    "# 設定地圖左側和底部的標籤\n",
    "parallels = np.arange(.....)\n",
    "m.drawparallels(.........)\n",
    "meridians = np.arange(.....)\n",
    "m.drawmeridians(.........)\n",
    "'''\n",
    "\n",
    "# 加入 colorbar\n",
    "cb = m.colorbar(im,\"right\", size=\"5%\", pad='2%')\n",
    "ax.set_title('ETOPO5 Topography - Lambert Conformal Conic')\n",
    "plt.show()\n"
   ]
  },
  {
   "cell_type": "code",
   "execution_count": null,
   "metadata": {},
   "outputs": [],
   "source": [
    "from __future__ import (absolute_import, division, print_function)\n",
    "\n",
    "from mpl_toolkits.basemap import Basemap\n",
    "import numpy as np\n",
    "import matplotlib.pyplot as plt\n",
    "\n",
    "# 說明使用warpimage method 方法顯示圖像背景。\n",
    "# 在地圖投影區域。 預設背景是『藍色。\n",
    "#來自美國宇航局的大理石圖像 (http://visibleearth.nasa.gov)\n",
    "\n",
    "# 建立新圖像\n",
    "fig=plt.figure()\n",
    "# 定義以北美為中心的正交投影.\n",
    "m = Basemap(projection='ortho',lat_0=40,lon_0=-100,resolution='l')\n",
    "# 顯示非預設影像 - 匯入要使用的IMAGE\n",
    "m.warpimage(image='earth_lights_lrg.jpg')\n",
    "# 繪製海岸線。\n",
    "m.drawcoastlines(linewidth=0.5,color='0.5')\n",
    "# 每 30 度繪製一組 lat/lon 網格線。\n",
    "m.drawmeridians(np.arange(0,360,30),color='0.5')\n",
    "m.drawparallels(np.arange(-90,90,30),color='0.5')\n",
    "#添加圖示標題\n",
    "plt.title(\"Lights at Night image warped from 'cyl' to 'ortho' projection\",fontsize=12)\n",
    "print('warp to orthographic map ...')\n",
    "\n"
   ]
  },
  {
   "cell_type": "code",
   "execution_count": null,
   "metadata": {},
   "outputs": [],
   "source": [
    "\n",
    "'''\n",
    "從這裡開始寫code\n",
    "\n",
    "# 建立新圖像\n",
    "fig\n",
    "\n",
    "#新定義圓柱形等距投影。\n",
    "m = Basemap(projection='?? ',llcrnrlon=-180,llcrnrlat=-90,urcrnrlon=180,urcrnrlat=90,resolution='??')\n",
    "# 繪圖 (未扭曲) rgba 圖像\n",
    "im = m.bluemarble(scale=0.5)\n",
    "m.warpimage(image='????')\n",
    "# 繪製海岸線。\n",
    "\n",
    "# 繪製經緯度網格\n",
    "m.drawmeridians(np.arange(-180,180,60),labels=[0,0,0,1],color='0.5')\n",
    "m.drawparallels(???)\n",
    "'''\n",
    "\n",
    "# 輸出圖像標題\n",
    "plt.title(\"Blue Marble image - native 'cyl' projection\",fontsize=12)\n",
    "print('plot native cylindrical map (no warping needed) ...')\n",
    "\n",
    "plt.show()"
   ]
  }
 ],
 "metadata": {
  "kernelspec": {
   "display_name": "Python 3",
   "language": "python",
   "name": "python3"
  },
  "language_info": {
   "codemirror_mode": {
    "name": "ipython",
    "version": 3
   },
   "file_extension": ".py",
   "mimetype": "text/x-python",
   "name": "python",
   "nbconvert_exporter": "python",
   "pygments_lexer": "ipython3",
   "version": "3.8.5"
  }
 },
 "nbformat": 4,
 "nbformat_minor": 4
}
