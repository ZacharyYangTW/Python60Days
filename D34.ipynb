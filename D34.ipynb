{
 "cells": [
  {
   "cell_type": "code",
   "execution_count": null,
   "metadata": {},
   "outputs": [],
   "source": [
    "#Q1 my ans\n",
    "#無法建立模型的資料\n",
    "#挑選 Mr./Ms. Right -> 不可\n",
    "#顧客下次會買哪些東西？ -> 可以, 樣本購大可以趨近母體的話, 可以根據過去資料蒐集建立模型\n",
    "#半導體的良率預測？ -> 可以, 樣本夠大可以趨近母體的話, 可以根據資料建立模型\n",
    "\n",
    "#Q2 my ans\n",
    "#挑選 Mr./Ms. Right\n",
    "#資料的建立如果是自己有很多資料來建立分析\n",
    "#但建立分析完以後, 只能給自己用, 無法給別人使用\n",
    "#如果資料的建立是很多人一起建立\n",
    "#也只是這個族群的結果\n",
    "#樣本不能代表母體的問題"
   ]
  }
 ],
 "metadata": {
  "kernelspec": {
   "display_name": "Python 3",
   "language": "python",
   "name": "python3"
  },
  "language_info": {
   "codemirror_mode": {
    "name": "ipython",
    "version": 3
   },
   "file_extension": ".py",
   "mimetype": "text/x-python",
   "name": "python",
   "nbconvert_exporter": "python",
   "pygments_lexer": "ipython3",
   "version": "3.8.5"
  }
 },
 "nbformat": 4,
 "nbformat_minor": 4
}
